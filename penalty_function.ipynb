{
 "cells": [
  {
   "cell_type": "code",
   "execution_count": 157,
   "id": "fc6f819c-df49-45ee-8f71-8c73abe66187",
   "metadata": {},
   "outputs": [],
   "source": [
    "from sympy import sympify, symbols, expand\n",
    "from sympy.polys.polytools import degree\n",
    "import re\n",
    "\n",

    "\n",
    "def penalty_function(translated_gp): \n",
    "    \"\"\"\n",
    "    Returns penalty score based on the configuration of the genetic program\n",
    "    \n",
    "    Parameters:\n",
    "    genetic_program: Genetic program\n",
    "    \n",
    "    Returns:\n",
    "    int: Penalty score (0 or 1) \n",
    "    \"\"\"\n",
    "\n",
    "    \"\"\"\n",
    "    Get the highest degree of the attributes in the expression. The summarised criterion is that\n",
    "    if the degreee exceeds 1 for any attribute, a penalty score of zero is assigned\n",
    "    \n",
    "    \"\"\"\n",
    "    # Isolate the attributes from the resulting expression\n",
    "    all_attributes = re.findall(r'[a-zA-Z][0-9]', translated_gp)\n",
    "    attributes = set(all_attributes)\n",
    "    attributes = list(attributes)\n",
    "\n",
    "    # Expand the expression\n",
    "    expanded_expression = expand(translated_gp)\n",
    "    \n",
    "    def get_highest_degree(expanded_expression,attributes):\n",
    "    \n",
    "        # Find the highest power of the attributes\n",
    "        # by looping through each attribute\n",
    "        all_deg = []\n",
    "        for iattribute in attributes:\n",
    "            # Define the variable\n",
    "            x = symbols(iattribute)\n",
    "\n",
    "            # Get the highest degree\n",
    "            deg = degree(expanded_expression, gen=x)\n",
    "            all_deg.append(deg)\n",
    "            \n",
    "        highest_deg = max(all_deg)\n",
    "    \n",
    "        return  highest_deg\n",
    "\n",
    "    highest_deg = get_highest_degree(expanded_expression,attributes)\n",
    "    \n",
    "    if highest_deg > 1:\n",
    "        score = 0\n",
    "    else:\n",
    "        score = 1\n",
    "        \n",
    "    return score\n",
    "    "
   ]
  },
  {
   "cell_type": "code",
   "execution_count": 159,
   "id": "ae347e33-93db-4b50-872d-2fcd0446183d",
   "metadata": {},
   "outputs": [
    {
     "data": {
      "text/plain": [
       "0"
      ]
     },
     "metadata": {},
     "output_type": "display_data"
    }
   ],
   "source": [
   ]
  },
  {
   "cell_type": "code",
   "execution_count": null,
   "id": "a5e58d97-afe1-419b-b8cf-33360c35d1f8",
   "metadata": {},
   "outputs": [],
   "source": []
  }
 ],
 "metadata": {
  "kernelspec": {
   "display_name": "Python 3 (ipykernel)",
   "language": "python",
   "name": "python3"
  },
  "language_info": {
   "codemirror_mode": {
    "name": "ipython",
    "version": 3
   },
   "file_extension": ".py",
   "mimetype": "text/x-python",
   "name": "python",
   "nbconvert_exporter": "python",
   "pygments_lexer": "ipython3",
   "version": "3.12.4"
  }
 },
 "nbformat": 4,
 "nbformat_minor": 5
}
